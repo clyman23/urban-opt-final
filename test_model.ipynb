{
 "cells": [
  {
   "cell_type": "code",
   "execution_count": 1,
   "metadata": {},
   "outputs": [],
   "source": [
    "import cvxpy as cp\n",
    "import numpy as np"
   ]
  },
  {
   "cell_type": "code",
   "execution_count": 19,
   "metadata": {},
   "outputs": [],
   "source": [
    "T = 3 # Num time periods\n",
    "S = 5 # Num stations\n",
    "V = 2 # Num vehicles\n",
    "\n",
    "C_hat_v = np.ones(V) # Capacity of each vehicle v\n",
    "d_hat_v_1 = np.array([10, 12]) # Initial num bikes in each vehicle v\n",
    "d_s_1 = np.array([5, 6, 3, 10, 11])"
   ]
  },
  {
   "cell_type": "code",
   "execution_count": 3,
   "metadata": {},
   "outputs": [],
   "source": [
    "d_hat = cp.Variable((V, T), name=\"d_hat\") # Num bikes in vehicle v at time t\n",
    "d = cp.Variable((S, T), name=\"d\")\n",
    "x_plus = cp.Variable((S, T), name=\"x_plus\") # Num of successful bike trips starting at stations s at time t\n",
    "x_minus = cp.Variable((S, T), name=\"x_minus\") # Num of successful returns starting at stations s at time t"
   ]
  },
  {
   "cell_type": "code",
   "execution_count": 9,
   "metadata": {},
   "outputs": [],
   "source": [
    "z = {}\n",
    "r_plus = {}\n",
    "r_minus = {}\n",
    "for t in range(T):\n",
    "    r_plus[t] = cp.Variable((S, V), name=\"r_plus-{}\".format(t))\n",
    "    r_minus[t] = cp.Variable((S, V), name=\"r_minus-{}\".format(t))\n",
    "    z[t] = cp.Variable((S, V), integer=True, name=\"z-{}\".format(t))"
   ]
  },
  {
   "cell_type": "code",
   "execution_count": 5,
   "metadata": {},
   "outputs": [],
   "source": [
    "d_hat_constraint = [\n",
    "    d_hat[:, 0] == d_hat_v_1\n",
    "]\n",
    "# Other d_hat\n",
    "d_hat_constraint.extend([\n",
    "    d_hat[:, t+1] == (\n",
    "        d_hat[:, t]\n",
    "        + sum([r_plus[t][s, :] - r_minus[t][s, :] for s in range(S)])\n",
    "    )\n",
    "\n",
    "    for t in range(T-1)\n",
    "])"
   ]
  },
  {
   "cell_type": "code",
   "execution_count": 6,
   "metadata": {},
   "outputs": [
    {
     "name": "stdout",
     "output_type": "stream",
     "text": [
      "d_hat[0:2, 0] == [10. 12.]\n",
      "d_hat[0:2, 1] == d_hat[0:2, 0] + r_plus-0[0, 0:2] + -r_minus-0[0, 0:2] + r_plus-0[1, 0:2] + -r_minus-0[1, 0:2] + r_plus-0[2, 0:2] + -r_minus-0[2, 0:2] + r_plus-0[3, 0:2] + -r_minus-0[3, 0:2] + r_plus-0[4, 0:2] + -r_minus-0[4, 0:2]\n",
      "d_hat[0:2, 2] == d_hat[0:2, 1] + r_plus-1[0, 0:2] + -r_minus-1[0, 0:2] + r_plus-1[1, 0:2] + -r_minus-1[1, 0:2] + r_plus-1[2, 0:2] + -r_minus-1[2, 0:2] + r_plus-1[3, 0:2] + -r_minus-1[3, 0:2] + r_plus-1[4, 0:2] + -r_minus-1[4, 0:2]\n"
     ]
    }
   ],
   "source": [
    "for i in d_hat_constraint:\n",
    "    print(str(i))"
   ]
  },
  {
   "cell_type": "code",
   "execution_count": 7,
   "metadata": {},
   "outputs": [],
   "source": [
    "d_constraint = [\n",
    "    d[:, 0] == d_s_1\n",
    "]\n",
    "# Other d\n",
    "d_constraint.extend([\n",
    "    d[:, t+1] == (\n",
    "        d[:, t]\n",
    "        + sum([r_plus[t][:, v] - r_minus[t][:, v] for v in range(V)])\n",
    "        - x_plus[:, t] + x_minus[:, t]\n",
    "    )\n",
    "\n",
    "    for t in range(T-1)\n",
    "])"
   ]
  },
  {
   "cell_type": "code",
   "execution_count": 8,
   "metadata": {},
   "outputs": [
    {
     "name": "stdout",
     "output_type": "stream",
     "text": [
      "d[0:5, 0] == [ 5.  6.  3. 10. 11.]\n",
      "d[0:5, 1] == d[0:5, 0] + r_plus-0[0:5, 0] + -r_minus-0[0:5, 0] + r_plus-0[0:5, 1] + -r_minus-0[0:5, 1] + -x_plus[0:5, 0] + x_minus[0:5, 0]\n",
      "d[0:5, 2] == d[0:5, 1] + r_plus-1[0:5, 0] + -r_minus-1[0:5, 0] + r_plus-1[0:5, 1] + -r_minus-1[0:5, 1] + -x_plus[0:5, 1] + x_minus[0:5, 1]\n"
     ]
    }
   ],
   "source": [
    "for i in d_constraint:\n",
    "    print(str(i))"
   ]
  },
  {
   "cell_type": "code",
   "execution_count": 15,
   "metadata": {},
   "outputs": [],
   "source": [
    "z_constraint = [\n",
    "    sum([z[t][s, :] for s in range(S)]) == 1\n",
    "    for t in range(T)\n",
    "]"
   ]
  },
  {
   "cell_type": "code",
   "execution_count": 16,
   "metadata": {},
   "outputs": [
    {
     "data": {
      "text/plain": [
       "'z-0[0, 0:2] + z-0[1, 0:2] + z-0[2, 0:2] + z-0[3, 0:2] + z-0[4, 0:2] == 1.0'"
      ]
     },
     "execution_count": 16,
     "metadata": {},
     "output_type": "execute_result"
    }
   ],
   "source": [
    "str(z_constraint[0])"
   ]
  },
  {
   "cell_type": "code",
   "execution_count": 24,
   "metadata": {},
   "outputs": [],
   "source": [
    "capacity_constraint = [\n",
    "    r_plus[t][s, :] + r_minus[t][s, :] <= cp.multiply(C_hat_v,  z[t][s, :])\n",
    "    for s in range(S) for t in range(T)\n",
    "]"
   ]
  },
  {
   "cell_type": "code",
   "execution_count": 27,
   "metadata": {},
   "outputs": [
    {
     "data": {
      "text/plain": [
       "'r_plus-0[0, 0:2] + r_minus-0[0, 0:2] <= [1. 1.] @ z-0[0, 0:2]'"
      ]
     },
     "execution_count": 27,
     "metadata": {},
     "output_type": "execute_result"
    }
   ],
   "source": [
    "str(capacity_constraint[0])"
   ]
  },
  {
   "cell_type": "code",
   "execution_count": 28,
   "metadata": {},
   "outputs": [],
   "source": [
    "d_hat_limits = [\n",
    "    d_hat >= 0\n",
    "]\n",
    "d_hat_limits.extend([\n",
    "    d_hat[:, t] <= C_hat_v\n",
    "    for t in range(T)\n",
    "])"
   ]
  },
  {
   "cell_type": "code",
   "execution_count": 41,
   "metadata": {},
   "outputs": [],
   "source": [
    "f_plus = np.ones((S, T)) # Expected rental demand at station s at time t\n",
    "f_minus = np.ones((S, T))\n",
    "x_plus_limits = [\n",
    "    x_plus >= 0\n",
    "]\n",
    "x_plus_limits.extend([\n",
    "    x_plus <= f_plus\n",
    "])"
   ]
  },
  {
   "cell_type": "code",
   "execution_count": 34,
   "metadata": {},
   "outputs": [
    {
     "data": {
      "text/plain": [
       "'x_plus <= [[1. 1. 1.]\\n [1. 1. 1.]\\n [1. 1. 1.]\\n [1. 1. 1.]\\n [1. 1. 1.]]'"
      ]
     },
     "execution_count": 34,
     "metadata": {},
     "output_type": "execute_result"
    }
   ],
   "source": [
    "str(x_plus_limits[1])"
   ]
  },
  {
   "cell_type": "code",
   "execution_count": 35,
   "metadata": {},
   "outputs": [],
   "source": [
    "r_plus_limits = [\n",
    "    0 <= r_plus[t] for t in range(T)\n",
    "]"
   ]
  },
  {
   "cell_type": "code",
   "execution_count": 37,
   "metadata": {},
   "outputs": [
    {
     "data": {
      "text/plain": [
       "'0.0 <= r_plus-0'"
      ]
     },
     "execution_count": 37,
     "metadata": {},
     "output_type": "execute_result"
    }
   ],
   "source": [
    "str(r_plus_limits[0])"
   ]
  },
  {
   "cell_type": "code",
   "execution_count": 38,
   "metadata": {},
   "outputs": [],
   "source": [
    "r_minus_limits = [\n",
    "    r_minus[t][s, :] <= C_hat_v\n",
    "    for s in range(S) for t in range(T)\n",
    "]"
   ]
  },
  {
   "cell_type": "code",
   "execution_count": 39,
   "metadata": {},
   "outputs": [
    {
     "data": {
      "text/plain": [
       "'r_minus-0[0, 0:2] <= [1. 1.]'"
      ]
     },
     "execution_count": 39,
     "metadata": {},
     "output_type": "execute_result"
    }
   ],
   "source": [
    "str(r_minus_limits[0])"
   ]
  },
  {
   "cell_type": "code",
   "execution_count": 42,
   "metadata": {},
   "outputs": [],
   "source": [
    "objective = (\n",
    "    sum([f_plus - x_plus])\n",
    "    + sum([f_minus - x_minus])\n",
    ")"
   ]
  },
  {
   "cell_type": "code",
   "execution_count": 47,
   "metadata": {},
   "outputs": [
    {
     "data": {
      "text/plain": [
       "'[[1. 1. 1.]\\n [1. 1. 1.]\\n [1. 1. 1.]\\n [1. 1. 1.]\\n [1. 1. 1.]] + -x_plus + [[1. 1. 1.]\\n [1. 1. 1.]\\n [1. 1. 1.]\\n [1. 1. 1.]\\n [1. 1. 1.]] + -x_minus[0, 0:3] + [[1. 1. 1.]\\n [1. 1. 1.]\\n [1. 1. 1.]\\n [1. 1. 1.]\\n [1. 1. 1.]] + -x_plus + [[1. 1. 1.]\\n [1. 1. 1.]\\n [1. 1. 1.]\\n [1. 1. 1.]\\n [1. 1. 1.]] + -x_minus[1, 0:3] + [[1. 1. 1.]\\n [1. 1. 1.]\\n [1. 1. 1.]\\n [1. 1. 1.]\\n [1. 1. 1.]] + -x_plus + [[1. 1. 1.]\\n [1. 1. 1.]\\n [1. 1. 1.]\\n [1. 1. 1.]\\n [1. 1. 1.]] + -x_minus[2, 0:3] + [[1. 1. 1.]\\n [1. 1. 1.]\\n [1. 1. 1.]\\n [1. 1. 1.]\\n [1. 1. 1.]] + -x_plus + [[1. 1. 1.]\\n [1. 1. 1.]\\n [1. 1. 1.]\\n [1. 1. 1.]\\n [1. 1. 1.]] + -x_minus[3, 0:3] + [[1. 1. 1.]\\n [1. 1. 1.]\\n [1. 1. 1.]\\n [1. 1. 1.]\\n [1. 1. 1.]] + -x_plus + [[1. 1. 1.]\\n [1. 1. 1.]\\n [1. 1. 1.]\\n [1. 1. 1.]\\n [1. 1. 1.]] + -x_minus[4, 0:3]'"
      ]
     },
     "execution_count": 47,
     "metadata": {},
     "output_type": "execute_result"
    }
   ],
   "source": [
    "str(sum(objective))"
   ]
  },
  {
   "cell_type": "code",
   "execution_count": 50,
   "metadata": {},
   "outputs": [
    {
     "data": {
      "text/plain": [
       "Expression(AFFINE, UNKNOWN, ())"
      ]
     },
     "execution_count": 50,
     "metadata": {},
     "output_type": "execute_result"
    }
   ],
   "source": [
    "sum(sum(objective))"
   ]
  },
  {
   "cell_type": "code",
   "execution_count": null,
   "metadata": {},
   "outputs": [],
   "source": []
  }
 ],
 "metadata": {
  "kernelspec": {
   "display_name": "venv",
   "language": "python",
   "name": "python3"
  },
  "language_info": {
   "codemirror_mode": {
    "name": "ipython",
    "version": 3
   },
   "file_extension": ".py",
   "mimetype": "text/x-python",
   "name": "python",
   "nbconvert_exporter": "python",
   "pygments_lexer": "ipython3",
   "version": "3.9.12"
  },
  "orig_nbformat": 4
 },
 "nbformat": 4,
 "nbformat_minor": 2
}
