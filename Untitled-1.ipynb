{
 "cells": [
  {
   "cell_type": "code",
   "execution_count": null,
   "metadata": {},
   "outputs": [],
   "source": [
    "combined_df[\"rand\"] = np.random.choice(1000, len(combined_df))\n",
    "combined_df.loc[combined_df[\"rand\"] >= 400, \"bike_type\"] = 'classic'\n",
    "combined_df.loc[combined_df[\"rand\"] < 400, \"bike_type\"] = 'electric'\n",
    "combined_df.drop(['rand'], axis=1, inplace=True)"
   ]
  }
 ],
 "metadata": {
  "language_info": {
   "name": "python"
  },
  "orig_nbformat": 4
 },
 "nbformat": 4,
 "nbformat_minor": 2
}
